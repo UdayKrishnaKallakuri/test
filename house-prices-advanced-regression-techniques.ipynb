{
 "cells": [
  {
   "cell_type": "code",
   "execution_count": 1,
   "id": "e8a3c5d4",
   "metadata": {
    "_cell_guid": "b1076dfc-b9ad-4769-8c92-a6c4dae69d19",
    "_uuid": "8f2839f25d086af736a60e9eeb907d3b93b6e0e5",
    "execution": {
     "iopub.execute_input": "2022-08-21T11:28:34.518180Z",
     "iopub.status.busy": "2022-08-21T11:28:34.517431Z",
     "iopub.status.idle": "2022-08-21T11:28:34.536667Z",
     "shell.execute_reply": "2022-08-21T11:28:34.535387Z"
    },
    "papermill": {
     "duration": 0.034049,
     "end_time": "2022-08-21T11:28:34.540691",
     "exception": false,
     "start_time": "2022-08-21T11:28:34.506642",
     "status": "completed"
    },
    "tags": []
   },
   "outputs": [
    {
     "name": "stdout",
     "output_type": "stream",
     "text": [
      "/kaggle/input/house-prices-advanced-regression-techniques/sample_submission.csv\n",
      "/kaggle/input/house-prices-advanced-regression-techniques/data_description.txt\n",
      "/kaggle/input/house-prices-advanced-regression-techniques/train.csv\n",
      "/kaggle/input/house-prices-advanced-regression-techniques/test.csv\n"
     ]
    }
   ],
   "source": [
    "# This Python 3 environment comes with many helpful analytics libraries installed\n",
    "# It is defined by the kaggle/python Docker image: https://github.com/kaggle/docker-python\n",
    "# For example, here's several helpful packages to load\n",
    "\n",
    "import numpy as np # linear algebra\n",
    "import pandas as pd # data processing, CSV file I/O (e.g. pd.read_csv)\n",
    "\n",
    "# Input data files are available in the read-only \"../input/\" directory\n",
    "# For example, running this (by clicking run or pressing Shift+Enter) will list all files under the input directory\n",
    "\n",
    "import os\n",
    "for dirname, _, filenames in os.walk('/kaggle/input'):\n",
    "    for filename in filenames:\n",
    "        print(os.path.join(dirname, filename))\n",
    "\n",
    "# You can write up to 20GB to the current directory (/kaggle/working/) that gets preserved as output when you create a version using \"Save & Run All\" \n",
    "# You can also write temporary files to /kaggle/temp/, but they won't be saved outside of the current session"
   ]
  },
  {
   "cell_type": "markdown",
   "id": "bfb60aee",
   "metadata": {
    "papermill": {
     "duration": 0.007067,
     "end_time": "2022-08-21T11:28:34.556252",
     "exception": false,
     "start_time": "2022-08-21T11:28:34.549185",
     "status": "completed"
    },
    "tags": []
   },
   "source": [
    "## Importing Libraries"
   ]
  },
  {
   "cell_type": "code",
   "execution_count": 2,
   "id": "304b4c0f",
   "metadata": {
    "execution": {
     "iopub.execute_input": "2022-08-21T11:28:34.572885Z",
     "iopub.status.busy": "2022-08-21T11:28:34.571956Z",
     "iopub.status.idle": "2022-08-21T11:28:34.577693Z",
     "shell.execute_reply": "2022-08-21T11:28:34.576688Z"
    },
    "papermill": {
     "duration": 0.016981,
     "end_time": "2022-08-21T11:28:34.580191",
     "exception": false,
     "start_time": "2022-08-21T11:28:34.563210",
     "status": "completed"
    },
    "tags": []
   },
   "outputs": [],
   "source": [
    "import numpy as np\n",
    "import matplotlib.pyplot as plt\n",
    "import pandas as pd"
   ]
  },
  {
   "cell_type": "markdown",
   "id": "27850ddb",
   "metadata": {
    "papermill": {
     "duration": 0.006434,
     "end_time": "2022-08-21T11:28:34.593454",
     "exception": false,
     "start_time": "2022-08-21T11:28:34.587020",
     "status": "completed"
    },
    "tags": []
   },
   "source": [
    "## Importing the dataset"
   ]
  },
  {
   "cell_type": "code",
   "execution_count": 3,
   "id": "24881f6e",
   "metadata": {
    "execution": {
     "iopub.execute_input": "2022-08-21T11:28:34.609793Z",
     "iopub.status.busy": "2022-08-21T11:28:34.608846Z",
     "iopub.status.idle": "2022-08-21T11:28:34.714172Z",
     "shell.execute_reply": "2022-08-21T11:28:34.712644Z"
    },
    "papermill": {
     "duration": 0.118717,
     "end_time": "2022-08-21T11:28:34.719039",
     "exception": false,
     "start_time": "2022-08-21T11:28:34.600322",
     "status": "completed"
    },
    "tags": []
   },
   "outputs": [],
   "source": [
    "train_dataset = pd.read_csv('../input/house-prices-advanced-regression-techniques/train.csv')\n",
    "test_dataset = pd.read_csv('../input/house-prices-advanced-regression-techniques/test.csv')\n",
    "X_train_dev = train_dataset.loc[:,train_dataset.columns.drop(['Id','SalePrice'])].values\n",
    "y_train_dev = train_dataset.iloc[:,-1].values\n",
    "X_test = test_dataset.loc[:,test_dataset.columns.drop('Id')].values\n",
    "output = np.zeros([X_test.shape[0],2])\n",
    "output[:,0] = test_dataset.iloc[:,0]"
   ]
  },
  {
   "cell_type": "code",
   "execution_count": 4,
   "id": "7bb9cc7f",
   "metadata": {
    "execution": {
     "iopub.execute_input": "2022-08-21T11:28:34.737882Z",
     "iopub.status.busy": "2022-08-21T11:28:34.737338Z",
     "iopub.status.idle": "2022-08-21T11:28:34.744114Z",
     "shell.execute_reply": "2022-08-21T11:28:34.742874Z"
    },
    "papermill": {
     "duration": 0.02146,
     "end_time": "2022-08-21T11:28:34.748503",
     "exception": false,
     "start_time": "2022-08-21T11:28:34.727043",
     "status": "completed"
    },
    "tags": []
   },
   "outputs": [
    {
     "name": "stdout",
     "output_type": "stream",
     "text": [
      "[[60 'RL' 65.0 ... 2008 'WD' 'Normal']\n",
      " [20 'RL' 80.0 ... 2007 'WD' 'Normal']\n",
      " [60 'RL' 68.0 ... 2008 'WD' 'Normal']\n",
      " ...\n",
      " [70 'RL' 66.0 ... 2010 'WD' 'Normal']\n",
      " [20 'RL' 68.0 ... 2010 'WD' 'Normal']\n",
      " [20 'RL' 75.0 ... 2008 'WD' 'Normal']]\n",
      "1460\n"
     ]
    }
   ],
   "source": [
    "print(X_train_dev)\n",
    "X_train_dev_length = X_train_dev.shape[0]\n",
    "print(X_train_dev_length)"
   ]
  },
  {
   "cell_type": "code",
   "execution_count": 5,
   "id": "b37165e8",
   "metadata": {
    "execution": {
     "iopub.execute_input": "2022-08-21T11:28:34.769012Z",
     "iopub.status.busy": "2022-08-21T11:28:34.768441Z",
     "iopub.status.idle": "2022-08-21T11:28:34.776691Z",
     "shell.execute_reply": "2022-08-21T11:28:34.775396Z"
    },
    "papermill": {
     "duration": 0.022258,
     "end_time": "2022-08-21T11:28:34.779172",
     "exception": false,
     "start_time": "2022-08-21T11:28:34.756914",
     "status": "completed"
    },
    "tags": []
   },
   "outputs": [
    {
     "name": "stdout",
     "output_type": "stream",
     "text": [
      "[208500 181500 223500 ... 266500 142125 147500]\n"
     ]
    }
   ],
   "source": [
    "print(y_train_dev)"
   ]
  },
  {
   "cell_type": "code",
   "execution_count": 6,
   "id": "9b9503be",
   "metadata": {
    "execution": {
     "iopub.execute_input": "2022-08-21T11:28:34.796920Z",
     "iopub.status.busy": "2022-08-21T11:28:34.796066Z",
     "iopub.status.idle": "2022-08-21T11:28:34.807962Z",
     "shell.execute_reply": "2022-08-21T11:28:34.806524Z"
    },
    "papermill": {
     "duration": 0.024232,
     "end_time": "2022-08-21T11:28:34.810547",
     "exception": false,
     "start_time": "2022-08-21T11:28:34.786315",
     "status": "completed"
    },
    "tags": []
   },
   "outputs": [
    {
     "name": "stdout",
     "output_type": "stream",
     "text": [
      "[[20 'RH' 80.0 ... 2010 'WD' 'Normal']\n",
      " [20 'RL' 81.0 ... 2010 'WD' 'Normal']\n",
      " [60 'RL' 74.0 ... 2010 'WD' 'Normal']\n",
      " ...\n",
      " [20 'RL' 160.0 ... 2006 'WD' 'Abnorml']\n",
      " [85 'RL' 62.0 ... 2006 'WD' 'Normal']\n",
      " [60 'RL' 74.0 ... 2006 'WD' 'Normal']]\n"
     ]
    },
    {
     "data": {
      "text/plain": [
       "79"
      ]
     },
     "execution_count": 6,
     "metadata": {},
     "output_type": "execute_result"
    }
   ],
   "source": [
    "print(X_test)\n",
    "X_test.shape[1]"
   ]
  },
  {
   "cell_type": "markdown",
   "id": "58ac05b9",
   "metadata": {
    "papermill": {
     "duration": 0.006792,
     "end_time": "2022-08-21T11:28:34.824392",
     "exception": false,
     "start_time": "2022-08-21T11:28:34.817600",
     "status": "completed"
    },
    "tags": []
   },
   "source": [
    "## Taking Care of Missing Data"
   ]
  },
  {
   "cell_type": "code",
   "execution_count": 7,
   "id": "70cab619",
   "metadata": {
    "execution": {
     "iopub.execute_input": "2022-08-21T11:28:34.841904Z",
     "iopub.status.busy": "2022-08-21T11:28:34.840584Z",
     "iopub.status.idle": "2022-08-21T11:28:36.307743Z",
     "shell.execute_reply": "2022-08-21T11:28:36.306409Z"
    },
    "papermill": {
     "duration": 1.479415,
     "end_time": "2022-08-21T11:28:36.311099",
     "exception": false,
     "start_time": "2022-08-21T11:28:34.831684",
     "status": "completed"
    },
    "tags": []
   },
   "outputs": [],
   "source": [
    "from sklearn.impute import SimpleImputer\n",
    "num_cols_to_find_train = train_dataset.select_dtypes(include='number').columns.values\n",
    "num_cols_train = [train_dataset.columns.get_loc(col)-1 for col in num_cols_to_find_train]\n",
    "del num_cols_train[0]\n",
    "del num_cols_train[-1]\n",
    "imputer_train = SimpleImputer(missing_values = np.nan, strategy = 'median')\n",
    "imputer_train.fit(X_train_dev[:,num_cols_train])\n",
    "X_train_dev[:,num_cols_train] = imputer_train.transform(X_train_dev[:,num_cols_train])\n",
    "\n",
    "num_cols_to_find_test = test_dataset.select_dtypes(include='number').columns.values\n",
    "num_cols_test = [test_dataset.columns.get_loc(col)-1 for col in num_cols_to_find_test]\n",
    "del num_cols_test[0]\n",
    "del num_cols_test[-1]\n",
    "imputer_test = SimpleImputer(missing_values = np.nan, strategy = 'median')\n",
    "imputer_test.fit(X_train_dev[:,num_cols_test])\n",
    "X_test[:,num_cols_test] = imputer_test.transform(X_test[:,num_cols_test])"
   ]
  },
  {
   "cell_type": "code",
   "execution_count": 8,
   "id": "8cc80e29",
   "metadata": {
    "execution": {
     "iopub.execute_input": "2022-08-21T11:28:36.329090Z",
     "iopub.status.busy": "2022-08-21T11:28:36.328274Z",
     "iopub.status.idle": "2022-08-21T11:28:36.338313Z",
     "shell.execute_reply": "2022-08-21T11:28:36.336399Z"
    },
    "papermill": {
     "duration": 0.022418,
     "end_time": "2022-08-21T11:28:36.340981",
     "exception": false,
     "start_time": "2022-08-21T11:28:36.318563",
     "status": "completed"
    },
    "tags": []
   },
   "outputs": [
    {
     "name": "stdout",
     "output_type": "stream",
     "text": [
      "[[60.0 'RL' 65.0 ... 2008.0 'WD' 'Normal']\n",
      " [20.0 'RL' 80.0 ... 2007.0 'WD' 'Normal']\n",
      " [60.0 'RL' 68.0 ... 2008.0 'WD' 'Normal']\n",
      " ...\n",
      " [70.0 'RL' 66.0 ... 2010.0 'WD' 'Normal']\n",
      " [20.0 'RL' 68.0 ... 2010.0 'WD' 'Normal']\n",
      " [20.0 'RL' 75.0 ... 2008.0 'WD' 'Normal']]\n"
     ]
    },
    {
     "data": {
      "text/plain": [
       "79"
      ]
     },
     "execution_count": 8,
     "metadata": {},
     "output_type": "execute_result"
    }
   ],
   "source": [
    "print(X_train_dev)\n",
    "X_train_dev.shape[1]"
   ]
  },
  {
   "cell_type": "code",
   "execution_count": 9,
   "id": "27363838",
   "metadata": {
    "execution": {
     "iopub.execute_input": "2022-08-21T11:28:36.359111Z",
     "iopub.status.busy": "2022-08-21T11:28:36.358126Z",
     "iopub.status.idle": "2022-08-21T11:28:36.366336Z",
     "shell.execute_reply": "2022-08-21T11:28:36.365089Z"
    },
    "papermill": {
     "duration": 0.021123,
     "end_time": "2022-08-21T11:28:36.369839",
     "exception": false,
     "start_time": "2022-08-21T11:28:36.348716",
     "status": "completed"
    },
    "tags": []
   },
   "outputs": [
    {
     "name": "stdout",
     "output_type": "stream",
     "text": [
      "[[20.0 'RH' 80.0 ... 2010 'WD' 'Normal']\n",
      " [20.0 'RL' 81.0 ... 2010 'WD' 'Normal']\n",
      " [60.0 'RL' 74.0 ... 2010 'WD' 'Normal']\n",
      " ...\n",
      " [20.0 'RL' 160.0 ... 2006 'WD' 'Abnorml']\n",
      " [85.0 'RL' 62.0 ... 2006 'WD' 'Normal']\n",
      " [60.0 'RL' 74.0 ... 2006 'WD' 'Normal']]\n"
     ]
    },
    {
     "data": {
      "text/plain": [
       "79"
      ]
     },
     "execution_count": 9,
     "metadata": {},
     "output_type": "execute_result"
    }
   ],
   "source": [
    "print(X_test)\n",
    "X_test.shape[1]"
   ]
  },
  {
   "cell_type": "markdown",
   "id": "99ec4403",
   "metadata": {
    "papermill": {
     "duration": 0.008358,
     "end_time": "2022-08-21T11:28:36.386036",
     "exception": false,
     "start_time": "2022-08-21T11:28:36.377678",
     "status": "completed"
    },
    "tags": []
   },
   "source": [
    "## Encoding Categorical Data"
   ]
  },
  {
   "cell_type": "code",
   "execution_count": 10,
   "id": "14724383",
   "metadata": {
    "execution": {
     "iopub.execute_input": "2022-08-21T11:28:36.404215Z",
     "iopub.status.busy": "2022-08-21T11:28:36.403713Z",
     "iopub.status.idle": "2022-08-21T11:28:36.417378Z",
     "shell.execute_reply": "2022-08-21T11:28:36.415993Z"
    },
    "papermill": {
     "duration": 0.02593,
     "end_time": "2022-08-21T11:28:36.419624",
     "exception": false,
     "start_time": "2022-08-21T11:28:36.393694",
     "status": "completed"
    },
    "tags": []
   },
   "outputs": [
    {
     "name": "stdout",
     "output_type": "stream",
     "text": [
      "[1, 4, 5, 6, 7, 8, 9, 10, 11, 12, 13, 14, 15, 20, 21, 22, 23, 24, 26, 27, 28, 29, 30, 31, 32, 34, 38, 39, 40, 41, 52, 54, 56, 57, 59, 62, 63, 64, 71, 72, 73, 77, 78]\n",
      "[1, 4, 5, 6, 7, 8, 9, 10, 11, 12, 13, 14, 15, 20, 21, 22, 23, 24, 26, 27, 28, 29, 30, 31, 32, 34, 38, 39, 40, 41, 52, 54, 56, 57, 59, 62, 63, 64, 71, 72, 73, 77, 78]\n"
     ]
    }
   ],
   "source": [
    "categorical_cols_to_find_train = train_dataset.select_dtypes(include=['object']).columns.values\n",
    "categorical_cols_train = [train_dataset.columns.get_loc(col)-1 for col in categorical_cols_to_find_train]\n",
    "print(categorical_cols_train)\n",
    "categorical_cols_to_find_test = test_dataset.select_dtypes(include=['object']).columns.values\n",
    "categorical_cols_test = [test_dataset.columns.get_loc(col)-1 for col in categorical_cols_to_find_test]\n",
    "print(categorical_cols_test)"
   ]
  },
  {
   "cell_type": "code",
   "execution_count": 11,
   "id": "72fe64d4",
   "metadata": {
    "execution": {
     "iopub.execute_input": "2022-08-21T11:28:36.436322Z",
     "iopub.status.busy": "2022-08-21T11:28:36.435912Z",
     "iopub.status.idle": "2022-08-21T11:28:36.536463Z",
     "shell.execute_reply": "2022-08-21T11:28:36.534986Z"
    },
    "papermill": {
     "duration": 0.112661,
     "end_time": "2022-08-21T11:28:36.539986",
     "exception": false,
     "start_time": "2022-08-21T11:28:36.427325",
     "status": "completed"
    },
    "tags": []
   },
   "outputs": [
    {
     "name": "stdout",
     "output_type": "stream",
     "text": [
      "2919\n"
     ]
    }
   ],
   "source": [
    "from sklearn.compose import make_column_transformer\n",
    "from sklearn.preprocessing import OneHotEncoder\n",
    "X = np.concatenate((X_train_dev, X_test), axis=0)\n",
    "categorical_cols_to_find_train = train_dataset.select_dtypes(include=['object']).columns.values\n",
    "categorical_cols_train = [train_dataset.columns.get_loc(col)-1 for col in categorical_cols_to_find_train]\n",
    "ct_train = make_column_transformer((OneHotEncoder(),categorical_cols_train),remainder = 'passthrough')\n",
    "X = ct_train.fit_transform(X)\n",
    "X = X.todense()\n",
    "print(X.shape[0])\n",
    "X_train_dev, X_test = np.array_split(X, [X_train_dev_length],axis = 0)"
   ]
  },
  {
   "cell_type": "code",
   "execution_count": 12,
   "id": "992698e6",
   "metadata": {
    "execution": {
     "iopub.execute_input": "2022-08-21T11:28:36.556832Z",
     "iopub.status.busy": "2022-08-21T11:28:36.556401Z",
     "iopub.status.idle": "2022-08-21T11:28:36.566147Z",
     "shell.execute_reply": "2022-08-21T11:28:36.564752Z"
    },
    "papermill": {
     "duration": 0.021728,
     "end_time": "2022-08-21T11:28:36.569389",
     "exception": false,
     "start_time": "2022-08-21T11:28:36.547661",
     "status": "completed"
    },
    "tags": []
   },
   "outputs": [
    {
     "name": "stdout",
     "output_type": "stream",
     "text": [
      "[[0.000e+00 0.000e+00 0.000e+00 ... 0.000e+00 2.000e+00 2.008e+03]\n",
      " [0.000e+00 0.000e+00 0.000e+00 ... 0.000e+00 5.000e+00 2.007e+03]\n",
      " [0.000e+00 0.000e+00 0.000e+00 ... 0.000e+00 9.000e+00 2.008e+03]\n",
      " ...\n",
      " [0.000e+00 0.000e+00 0.000e+00 ... 2.500e+03 5.000e+00 2.010e+03]\n",
      " [0.000e+00 0.000e+00 0.000e+00 ... 0.000e+00 4.000e+00 2.010e+03]\n",
      " [0.000e+00 0.000e+00 0.000e+00 ... 0.000e+00 6.000e+00 2.008e+03]]\n",
      "1460\n",
      "311\n"
     ]
    }
   ],
   "source": [
    "print(X_train_dev)\n",
    "print(X_train_dev.shape[0])\n",
    "print(X_train_dev.shape[1])"
   ]
  },
  {
   "cell_type": "code",
   "execution_count": 13,
   "id": "87ab4d16",
   "metadata": {
    "execution": {
     "iopub.execute_input": "2022-08-21T11:28:36.586589Z",
     "iopub.status.busy": "2022-08-21T11:28:36.585894Z",
     "iopub.status.idle": "2022-08-21T11:28:36.595153Z",
     "shell.execute_reply": "2022-08-21T11:28:36.593845Z"
    },
    "papermill": {
     "duration": 0.020696,
     "end_time": "2022-08-21T11:28:36.597730",
     "exception": false,
     "start_time": "2022-08-21T11:28:36.577034",
     "status": "completed"
    },
    "tags": []
   },
   "outputs": [
    {
     "name": "stdout",
     "output_type": "stream",
     "text": [
      "[[0.000e+00 0.000e+00 1.000e+00 ... 0.000e+00 6.000e+00 2.010e+03]\n",
      " [0.000e+00 0.000e+00 0.000e+00 ... 1.250e+04 6.000e+00 2.010e+03]\n",
      " [0.000e+00 0.000e+00 0.000e+00 ... 0.000e+00 3.000e+00 2.010e+03]\n",
      " ...\n",
      " [0.000e+00 0.000e+00 0.000e+00 ... 0.000e+00 9.000e+00 2.006e+03]\n",
      " [0.000e+00 0.000e+00 0.000e+00 ... 7.000e+02 7.000e+00 2.006e+03]\n",
      " [0.000e+00 0.000e+00 0.000e+00 ... 0.000e+00 1.100e+01 2.006e+03]]\n"
     ]
    },
    {
     "data": {
      "text/plain": [
       "311"
      ]
     },
     "execution_count": 13,
     "metadata": {},
     "output_type": "execute_result"
    }
   ],
   "source": [
    "print(X_test)\n",
    "X_test.shape[1]"
   ]
  },
  {
   "cell_type": "markdown",
   "id": "916b8c18",
   "metadata": {
    "papermill": {
     "duration": 0.007353,
     "end_time": "2022-08-21T11:28:36.612859",
     "exception": false,
     "start_time": "2022-08-21T11:28:36.605506",
     "status": "completed"
    },
    "tags": []
   },
   "source": [
    "## Splitting into dev and training sets"
   ]
  },
  {
   "cell_type": "code",
   "execution_count": 14,
   "id": "ed8e0eab",
   "metadata": {
    "execution": {
     "iopub.execute_input": "2022-08-21T11:28:36.629758Z",
     "iopub.status.busy": "2022-08-21T11:28:36.629321Z",
     "iopub.status.idle": "2022-08-21T11:28:36.639029Z",
     "shell.execute_reply": "2022-08-21T11:28:36.637822Z"
    },
    "papermill": {
     "duration": 0.021148,
     "end_time": "2022-08-21T11:28:36.641505",
     "exception": false,
     "start_time": "2022-08-21T11:28:36.620357",
     "status": "completed"
    },
    "tags": []
   },
   "outputs": [],
   "source": [
    "from sklearn.model_selection import train_test_split\n",
    "X_train, X_dev, y_train, y_dev = train_test_split(X_train_dev, y_train_dev, test_size = 0.1, random_state = 0) "
   ]
  },
  {
   "cell_type": "code",
   "execution_count": 15,
   "id": "bbc3dd66",
   "metadata": {
    "execution": {
     "iopub.execute_input": "2022-08-21T11:28:36.658631Z",
     "iopub.status.busy": "2022-08-21T11:28:36.658204Z",
     "iopub.status.idle": "2022-08-21T11:28:36.664184Z",
     "shell.execute_reply": "2022-08-21T11:28:36.663214Z"
    },
    "papermill": {
     "duration": 0.017375,
     "end_time": "2022-08-21T11:28:36.666554",
     "exception": false,
     "start_time": "2022-08-21T11:28:36.649179",
     "status": "completed"
    },
    "tags": []
   },
   "outputs": [
    {
     "name": "stdout",
     "output_type": "stream",
     "text": [
      "[[0.000e+00 0.000e+00 0.000e+00 ... 0.000e+00 7.000e+00 2.009e+03]\n",
      " [0.000e+00 0.000e+00 0.000e+00 ... 0.000e+00 8.000e+00 2.008e+03]\n",
      " [0.000e+00 0.000e+00 0.000e+00 ... 0.000e+00 2.000e+00 2.010e+03]\n",
      " ...\n",
      " [0.000e+00 0.000e+00 0.000e+00 ... 0.000e+00 4.000e+00 2.010e+03]\n",
      " [0.000e+00 0.000e+00 0.000e+00 ... 0.000e+00 1.000e+01 2.006e+03]\n",
      " [0.000e+00 0.000e+00 0.000e+00 ... 0.000e+00 6.000e+00 2.010e+03]]\n"
     ]
    }
   ],
   "source": [
    "print(X_train)"
   ]
  },
  {
   "cell_type": "markdown",
   "id": "7b92820f",
   "metadata": {
    "papermill": {
     "duration": 0.007426,
     "end_time": "2022-08-21T11:28:36.681726",
     "exception": false,
     "start_time": "2022-08-21T11:28:36.674300",
     "status": "completed"
    },
    "tags": []
   },
   "source": [
    "## Feature Scaling"
   ]
  },
  {
   "cell_type": "code",
   "execution_count": 16,
   "id": "eec9bb15",
   "metadata": {
    "execution": {
     "iopub.execute_input": "2022-08-21T11:28:36.700356Z",
     "iopub.status.busy": "2022-08-21T11:28:36.699463Z",
     "iopub.status.idle": "2022-08-21T11:28:36.724345Z",
     "shell.execute_reply": "2022-08-21T11:28:36.723024Z"
    },
    "papermill": {
     "duration": 0.03766,
     "end_time": "2022-08-21T11:28:36.727200",
     "exception": false,
     "start_time": "2022-08-21T11:28:36.689540",
     "status": "completed"
    },
    "tags": []
   },
   "outputs": [
    {
     "name": "stderr",
     "output_type": "stream",
     "text": [
      "/opt/conda/lib/python3.7/site-packages/sklearn/utils/validation.py:598: FutureWarning: np.matrix usage is deprecated in 1.0 and will raise a TypeError in 1.2. Please convert to a numpy array with np.asarray. For more information see: https://numpy.org/doc/stable/reference/generated/numpy.matrix.html\n",
      "  FutureWarning,\n",
      "/opt/conda/lib/python3.7/site-packages/sklearn/utils/validation.py:598: FutureWarning: np.matrix usage is deprecated in 1.0 and will raise a TypeError in 1.2. Please convert to a numpy array with np.asarray. For more information see: https://numpy.org/doc/stable/reference/generated/numpy.matrix.html\n",
      "  FutureWarning,\n",
      "/opt/conda/lib/python3.7/site-packages/sklearn/utils/validation.py:598: FutureWarning: np.matrix usage is deprecated in 1.0 and will raise a TypeError in 1.2. Please convert to a numpy array with np.asarray. For more information see: https://numpy.org/doc/stable/reference/generated/numpy.matrix.html\n",
      "  FutureWarning,\n",
      "/opt/conda/lib/python3.7/site-packages/sklearn/utils/validation.py:598: FutureWarning: np.matrix usage is deprecated in 1.0 and will raise a TypeError in 1.2. Please convert to a numpy array with np.asarray. For more information see: https://numpy.org/doc/stable/reference/generated/numpy.matrix.html\n",
      "  FutureWarning,\n"
     ]
    }
   ],
   "source": [
    "from sklearn.preprocessing import StandardScaler \n",
    "sc = StandardScaler()\n",
    "X_train = sc.fit_transform(X_train)\n",
    "X_dev = sc.transform(X_dev)\n",
    "X_test = sc.transform(X_test)"
   ]
  },
  {
   "cell_type": "markdown",
   "id": "4be381b4",
   "metadata": {
    "papermill": {
     "duration": 0.009892,
     "end_time": "2022-08-21T11:28:36.747346",
     "exception": false,
     "start_time": "2022-08-21T11:28:36.737454",
     "status": "completed"
    },
    "tags": []
   },
   "source": [
    "## Training the Model"
   ]
  },
  {
   "cell_type": "code",
   "execution_count": 17,
   "id": "6b61327c",
   "metadata": {
    "execution": {
     "iopub.execute_input": "2022-08-21T11:28:36.768666Z",
     "iopub.status.busy": "2022-08-21T11:28:36.767866Z",
     "iopub.status.idle": "2022-08-21T11:28:37.198658Z",
     "shell.execute_reply": "2022-08-21T11:28:37.197447Z"
    },
    "papermill": {
     "duration": 0.444072,
     "end_time": "2022-08-21T11:28:37.201690",
     "exception": false,
     "start_time": "2022-08-21T11:28:36.757618",
     "status": "completed"
    },
    "tags": []
   },
   "outputs": [
    {
     "data": {
      "text/plain": [
       "RandomForestRegressor(n_estimators=10, random_state=0)"
      ]
     },
     "execution_count": 17,
     "metadata": {},
     "output_type": "execute_result"
    }
   ],
   "source": [
    "from sklearn.ensemble import RandomForestRegressor\n",
    "regressor = RandomForestRegressor(n_estimators = 10, random_state = 0)\n",
    "regressor.fit(X_train,y_train)"
   ]
  },
  {
   "cell_type": "markdown",
   "id": "cab728c9",
   "metadata": {
    "papermill": {
     "duration": 0.007733,
     "end_time": "2022-08-21T11:28:37.217354",
     "exception": false,
     "start_time": "2022-08-21T11:28:37.209621",
     "status": "completed"
    },
    "tags": []
   },
   "source": [
    "## Evaluating the Model Performance"
   ]
  },
  {
   "cell_type": "code",
   "execution_count": 18,
   "id": "f43d3547",
   "metadata": {
    "execution": {
     "iopub.execute_input": "2022-08-21T11:28:37.235060Z",
     "iopub.status.busy": "2022-08-21T11:28:37.234627Z",
     "iopub.status.idle": "2022-08-21T11:28:37.244891Z",
     "shell.execute_reply": "2022-08-21T11:28:37.243858Z"
    },
    "papermill": {
     "duration": 0.022072,
     "end_time": "2022-08-21T11:28:37.247255",
     "exception": false,
     "start_time": "2022-08-21T11:28:37.225183",
     "status": "completed"
    },
    "tags": []
   },
   "outputs": [
    {
     "data": {
      "text/plain": [
       "0.8858342053346228"
      ]
     },
     "execution_count": 18,
     "metadata": {},
     "output_type": "execute_result"
    }
   ],
   "source": [
    "from sklearn.metrics import r2_score\n",
    "y_dev_pred = regressor.predict(X_dev)\n",
    "r2_score(y_dev,y_dev_pred)"
   ]
  },
  {
   "cell_type": "markdown",
   "id": "22a821ba",
   "metadata": {
    "papermill": {
     "duration": 0.007851,
     "end_time": "2022-08-21T11:28:37.263399",
     "exception": false,
     "start_time": "2022-08-21T11:28:37.255548",
     "status": "completed"
    },
    "tags": []
   },
   "source": [
    "## Predicting Test Set Results"
   ]
  },
  {
   "cell_type": "code",
   "execution_count": 19,
   "id": "dc9f99bc",
   "metadata": {
    "execution": {
     "iopub.execute_input": "2022-08-21T11:28:37.281495Z",
     "iopub.status.busy": "2022-08-21T11:28:37.280856Z",
     "iopub.status.idle": "2022-08-21T11:28:37.308146Z",
     "shell.execute_reply": "2022-08-21T11:28:37.306524Z"
    },
    "papermill": {
     "duration": 0.039923,
     "end_time": "2022-08-21T11:28:37.311311",
     "exception": false,
     "start_time": "2022-08-21T11:28:37.271388",
     "status": "completed"
    },
    "tags": []
   },
   "outputs": [
    {
     "name": "stdout",
     "output_type": "stream",
     "text": [
      "        Id  SalePrice\n",
      "0     1461     124830\n",
      "1     1462     160425\n",
      "2     1463     179028\n",
      "3     1464     180265\n",
      "4     1465     189905\n",
      "...    ...        ...\n",
      "1454  2915      85700\n",
      "1455  2916      80081\n",
      "1456  2917     143300\n",
      "1457  2918     108275\n",
      "1458  2919     244600\n",
      "\n",
      "[1459 rows x 2 columns]\n"
     ]
    }
   ],
   "source": [
    "output[:,1]  = regressor.predict(X_test)\n",
    "output_DF = pd.DataFrame(output.astype(int),columns=['Id','SalePrice'])\n",
    "output_DF.to_csv(\"./ud2.csv\",index=False)\n",
    "check_df = pd.read_csv('./ud2.csv')\n",
    "print(check_df)"
   ]
  }
 ],
 "metadata": {
  "kernelspec": {
   "display_name": "Python 3",
   "language": "python",
   "name": "python3"
  },
  "language_info": {
   "codemirror_mode": {
    "name": "ipython",
    "version": 3
   },
   "file_extension": ".py",
   "mimetype": "text/x-python",
   "name": "python",
   "nbconvert_exporter": "python",
   "pygments_lexer": "ipython3",
   "version": "3.7.12"
  },
  "papermill": {
   "default_parameters": {},
   "duration": 13.174766,
   "end_time": "2022-08-21T11:28:38.042139",
   "environment_variables": {},
   "exception": null,
   "input_path": "__notebook__.ipynb",
   "output_path": "__notebook__.ipynb",
   "parameters": {},
   "start_time": "2022-08-21T11:28:24.867373",
   "version": "2.3.4"
  }
 },
 "nbformat": 4,
 "nbformat_minor": 5
}
