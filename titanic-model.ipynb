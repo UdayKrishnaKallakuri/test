{
 "cells": [
  {
   "cell_type": "code",
   "execution_count": 1,
   "id": "1470ec99",
   "metadata": {
    "_cell_guid": "b1076dfc-b9ad-4769-8c92-a6c4dae69d19",
    "_uuid": "8f2839f25d086af736a60e9eeb907d3b93b6e0e5",
    "execution": {
     "iopub.execute_input": "2022-08-18T13:07:29.239857Z",
     "iopub.status.busy": "2022-08-18T13:07:29.239141Z",
     "iopub.status.idle": "2022-08-18T13:07:29.252332Z",
     "shell.execute_reply": "2022-08-18T13:07:29.251589Z"
    },
    "papermill": {
     "duration": 0.023634,
     "end_time": "2022-08-18T13:07:29.254875",
     "exception": false,
     "start_time": "2022-08-18T13:07:29.231241",
     "status": "completed"
    },
    "tags": []
   },
   "outputs": [
    {
     "name": "stdout",
     "output_type": "stream",
     "text": [
      "/kaggle/input/titanic/train.csv\n",
      "/kaggle/input/titanic/test.csv\n",
      "/kaggle/input/titanic/gender_submission.csv\n"
     ]
    }
   ],
   "source": [
    "# This Python 3 environment comes with many helpful analytics libraries installed\n",
    "# It is defined by the kaggle/python Docker image: https://github.com/kaggle/docker-python\n",
    "# For example, here's several helpful packages to load\n",
    "\n",
    "import numpy as np # linear algebra\n",
    "import pandas as pd # data processing, CSV file I/O (e.g. pd.read_csv)\n",
    "\n",
    "# Input data files are available in the read-only \"../input/\" directory\n",
    "# For example, running this (by clicking run or pressing Shift+Enter) will list all files under the input directory\n",
    "\n",
    "import os\n",
    "for dirname, _, filenames in os.walk('/kaggle/input'):\n",
    "    for filename in filenames:\n",
    "        print(os.path.join(dirname, filename))\n",
    "\n",
    "# You can write up to 20GB to the current directory (/kaggle/working/) that gets preserved as output when you create a version using \"Save & Run All\" \n",
    "# You can also write temporary files to /kaggle/temp/, but they won't be saved outside of the current session"
   ]
  },
  {
   "cell_type": "markdown",
   "id": "7d649561",
   "metadata": {
    "papermill": {
     "duration": 0.004728,
     "end_time": "2022-08-18T13:07:29.264827",
     "exception": false,
     "start_time": "2022-08-18T13:07:29.260099",
     "status": "completed"
    },
    "tags": []
   },
   "source": [
    "## Importing Libraries"
   ]
  },
  {
   "cell_type": "code",
   "execution_count": 2,
   "id": "fdde1169",
   "metadata": {
    "execution": {
     "iopub.execute_input": "2022-08-18T13:07:29.276276Z",
     "iopub.status.busy": "2022-08-18T13:07:29.275648Z",
     "iopub.status.idle": "2022-08-18T13:07:29.279861Z",
     "shell.execute_reply": "2022-08-18T13:07:29.279007Z"
    },
    "papermill": {
     "duration": 0.012173,
     "end_time": "2022-08-18T13:07:29.281776",
     "exception": false,
     "start_time": "2022-08-18T13:07:29.269603",
     "status": "completed"
    },
    "tags": []
   },
   "outputs": [],
   "source": [
    "import numpy as np\n",
    "import matplotlib.pyplot as plt\n",
    "import pandas as pd"
   ]
  },
  {
   "cell_type": "markdown",
   "id": "f11eae20",
   "metadata": {
    "papermill": {
     "duration": 0.004511,
     "end_time": "2022-08-18T13:07:29.291152",
     "exception": false,
     "start_time": "2022-08-18T13:07:29.286641",
     "status": "completed"
    },
    "tags": []
   },
   "source": [
    "## Importing the dataset"
   ]
  },
  {
   "cell_type": "code",
   "execution_count": 3,
   "id": "3ba21be1",
   "metadata": {
    "execution": {
     "iopub.execute_input": "2022-08-18T13:07:29.303159Z",
     "iopub.status.busy": "2022-08-18T13:07:29.302530Z",
     "iopub.status.idle": "2022-08-18T13:07:29.341272Z",
     "shell.execute_reply": "2022-08-18T13:07:29.340451Z"
    },
    "papermill": {
     "duration": 0.047868,
     "end_time": "2022-08-18T13:07:29.343810",
     "exception": false,
     "start_time": "2022-08-18T13:07:29.295942",
     "status": "completed"
    },
    "tags": []
   },
   "outputs": [],
   "source": [
    "train_dataset = pd.read_csv('../input/titanic/train.csv')\n",
    "train_dataset['Sex'].replace(['male', 'female'],[0, 1], inplace=True)\n",
    "test_dataset = pd.read_csv('../input/titanic/test.csv')\n",
    "test_dataset['Sex'].replace(['male', 'female'],[0, 1], inplace=True)\n",
    "Y_train_dev = train_dataset.iloc[:,1].values\n",
    "X_train_dev = train_dataset.iloc[:,[2,4,5,6,7,9]]\n",
    "X_test = test_dataset.iloc[:,[1,3,4,5,6,8]]\n",
    "output = np.zeros([X_test.shape[0],2])\n",
    "output[:,0] = test_dataset.iloc[:,0]"
   ]
  },
  {
   "cell_type": "markdown",
   "id": "3401dfeb",
   "metadata": {
    "papermill": {
     "duration": 0.004742,
     "end_time": "2022-08-18T13:07:29.353684",
     "exception": false,
     "start_time": "2022-08-18T13:07:29.348942",
     "status": "completed"
    },
    "tags": []
   },
   "source": [
    "## Splitting into dev and train set"
   ]
  },
  {
   "cell_type": "code",
   "execution_count": 4,
   "id": "666dd5b8",
   "metadata": {
    "execution": {
     "iopub.execute_input": "2022-08-18T13:07:29.365585Z",
     "iopub.status.busy": "2022-08-18T13:07:29.364912Z",
     "iopub.status.idle": "2022-08-18T13:07:30.624339Z",
     "shell.execute_reply": "2022-08-18T13:07:30.623282Z"
    },
    "papermill": {
     "duration": 1.268378,
     "end_time": "2022-08-18T13:07:30.627011",
     "exception": false,
     "start_time": "2022-08-18T13:07:29.358633",
     "status": "completed"
    },
    "tags": []
   },
   "outputs": [],
   "source": [
    "from sklearn.model_selection import train_test_split\n",
    "X_train, X_dev, Y_train, Y_dev = train_test_split(X_train_dev, Y_train_dev, test_size = 0.11235, random_state = 0) "
   ]
  },
  {
   "cell_type": "code",
   "execution_count": 5,
   "id": "44bf0f2a",
   "metadata": {
    "execution": {
     "iopub.execute_input": "2022-08-18T13:07:30.639348Z",
     "iopub.status.busy": "2022-08-18T13:07:30.638478Z",
     "iopub.status.idle": "2022-08-18T13:07:30.651792Z",
     "shell.execute_reply": "2022-08-18T13:07:30.650950Z"
    },
    "papermill": {
     "duration": 0.022651,
     "end_time": "2022-08-18T13:07:30.654905",
     "exception": false,
     "start_time": "2022-08-18T13:07:30.632254",
     "status": "completed"
    },
    "tags": []
   },
   "outputs": [
    {
     "name": "stdout",
     "output_type": "stream",
     "text": [
      "     Pclass  Sex   Age  SibSp  Parch     Fare\n",
      "249       2    0  54.0      1      0  26.0000\n",
      "715       3    0  19.0      0      0   7.6500\n",
      "175       3    0  18.0      1      1   7.8542\n",
      "251       3    1  29.0      1      1  10.4625\n",
      "279       3    1  35.0      1      1  20.2500\n",
      "..      ...  ...   ...    ...    ...      ...\n",
      "835       1    1  39.0      1      1  83.1583\n",
      "192       3    1  19.0      1      0   7.8542\n",
      "629       3    0   NaN      0      0   7.7333\n",
      "559       3    1  36.0      1      0  17.4000\n",
      "684       2    0  60.0      1      1  39.0000\n",
      "\n",
      "[790 rows x 6 columns]\n"
     ]
    }
   ],
   "source": [
    "print(X_train)"
   ]
  },
  {
   "cell_type": "code",
   "execution_count": 6,
   "id": "9b886757",
   "metadata": {
    "execution": {
     "iopub.execute_input": "2022-08-18T13:07:30.667636Z",
     "iopub.status.busy": "2022-08-18T13:07:30.667033Z",
     "iopub.status.idle": "2022-08-18T13:07:30.674419Z",
     "shell.execute_reply": "2022-08-18T13:07:30.673358Z"
    },
    "papermill": {
     "duration": 0.016094,
     "end_time": "2022-08-18T13:07:30.676969",
     "exception": false,
     "start_time": "2022-08-18T13:07:30.660875",
     "status": "completed"
    },
    "tags": []
   },
   "outputs": [
    {
     "name": "stdout",
     "output_type": "stream",
     "text": [
      "[0 0 0 0 1 1 0 0 1 0 1 1 0 1 1 1 1 0 1 1 0 0 0 0 0 0 1 0 0 0 0 0 0 0 0 0 0\n",
      " 0 0 0 1 0 0 1 0 0 1 1 0 0 1 0 0 1 0 0 1 0 1 0 1 1 1 0 0 0 0 0 0 0 1 0 0 1\n",
      " 0 1 0 0 0 0 0 0 0 0 0 1 0 0 1 0 0 1 1 0 0 0 1 1 0 1 0 0 1 1 0 0 0 1 0 0 1\n",
      " 0 0 0 0 0 1 0 1 0 1 1 0 1 0 0 1 1 0 0 1 1 0 0 0 1 1 1 0 0 1 0 0 1 1 0 0 0\n",
      " 1 0 0 0 0 0 0 1 1 1 0 0 0 0 0 0 0 1 0 1 1 0 0 0 1 0 0 0 1 1 0 0 1 0 1 0 0\n",
      " 0 0 0 0 1 0 1 1 1 0 0 0 1 0 1 0 0 1 1 1 0 0 1 0 1 0 0 0 0 1 0 1 0 1 0 1 1\n",
      " 1 0 0 0 0 0 0 1 0 1 0 0 0 1 0 1 0 0 0 1 0 1 1 1 0 0 0 1 1 0 0 1 0 1 0 0 0\n",
      " 0 1 1 1 0 1 0 1 0 1 0 0 1 0 0 0 0 0 1 0 1 0 1 0 0 0 0 0 1 0 0 1 0 0 0 1 0\n",
      " 0 1 0 0 1 0 1 0 0 0 0 1 0 0 0 1 0 0 0 0 0 0 0 0 0 1 1 0 0 0 1 0 0 0 0 1 1\n",
      " 0 1 0 1 0 0 0 1 1 0 0 0 0 0 0 1 0 0 1 1 0 0 0 1 0 1 0 0 1 0 0 1 1 0 0 1 1\n",
      " 1 0 1 0 0 1 0 0 0 0 0 1 0 0 0 1 0 0 1 1 0 0 0 0 0 0 1 0 0 0 0 0 1 0 0 0 1\n",
      " 0 1 0 0 1 0 1 0 1 0 0 0 1 1 1 1 0 0 0 0 0 0 0 1 1 1 0 0 0 1 0 1 1 1 0 0 0\n",
      " 0 1 1 0 0 1 0 1 1 0 0 0 0 1 1 0 1 0 1 0 1 0 0 0 1 0 0 0 1 0 0 0 0 0 1 1 0\n",
      " 0 0 0 1 1 0 0 0 1 0 0 0 1 1 0 0 1 0 0 0 0 0 0 1 1 1 1 1 1 1 1 0 0 0 1 1 0\n",
      " 0 1 1 0 0 0 0 0 0 0 1 1 1 0 0 0 0 1 1 0 0 0 1 0 1 0 1 0 1 1 1 1 0 0 1 0 1\n",
      " 0 0 1 1 1 0 0 0 1 0 0 1 0 0 0 0 0 0 0 0 0 0 0 0 0 0 0 1 1 0 0 0 1 1 0 0 1\n",
      " 1 1 0 0 0 1 0 0 1 0 1 0 1 0 0 1 0 0 0 0 0 1 0 0 0 0 1 1 1 0 0 1 1 1 0 1 1\n",
      " 0 0 0 0 1 0 0 1 1 0 0 0 1 1 0 1 0 1 1 1 0 1 1 1 0 0 0 1 0 0 0 1 0 0 1 0 0\n",
      " 0 1 0 0 1 1 1 0 1 1 0 1 0 1 1 0 0 0 0 0 0 1 1 0 0 0 0 0 1 0 0 0 1 1 1 0 0\n",
      " 1 0 0 0 0 0 1 1 1 0 1 0 0 1 0 0 0 0 0 0 0 0 0 1 1 1 1 1 1 1 0 1 0 1 0 0 1\n",
      " 0 0 1 0 1 0 0 0 1 1 0 0 0 1 1 0 1 1 0 1 0 0 1 1 1 1 0 0 0 1 0 0 0 1 1 0 1\n",
      " 1 1 0 0 1 1 1 1 1 1 0 1 0]\n"
     ]
    }
   ],
   "source": [
    "print(Y_train)"
   ]
  },
  {
   "cell_type": "code",
   "execution_count": 7,
   "id": "72462674",
   "metadata": {
    "execution": {
     "iopub.execute_input": "2022-08-18T13:07:30.689356Z",
     "iopub.status.busy": "2022-08-18T13:07:30.688704Z",
     "iopub.status.idle": "2022-08-18T13:07:30.698640Z",
     "shell.execute_reply": "2022-08-18T13:07:30.697589Z"
    },
    "papermill": {
     "duration": 0.019441,
     "end_time": "2022-08-18T13:07:30.701691",
     "exception": false,
     "start_time": "2022-08-18T13:07:30.682250",
     "status": "completed"
    },
    "tags": []
   },
   "outputs": [
    {
     "name": "stdout",
     "output_type": "stream",
     "text": [
      "     Pclass  Sex   Age  SibSp  Parch      Fare\n",
      "0         3    0  34.5      0      0    7.8292\n",
      "1         3    1  47.0      1      0    7.0000\n",
      "2         2    0  62.0      0      0    9.6875\n",
      "3         3    0  27.0      0      0    8.6625\n",
      "4         3    1  22.0      1      1   12.2875\n",
      "..      ...  ...   ...    ...    ...       ...\n",
      "413       3    0   NaN      0      0    8.0500\n",
      "414       1    1  39.0      0      0  108.9000\n",
      "415       3    0  38.5      0      0    7.2500\n",
      "416       3    0   NaN      0      0    8.0500\n",
      "417       3    0   NaN      1      1   22.3583\n",
      "\n",
      "[418 rows x 6 columns]\n"
     ]
    }
   ],
   "source": [
    "print(X_test)"
   ]
  },
  {
   "cell_type": "markdown",
   "id": "58204f8c",
   "metadata": {
    "papermill": {
     "duration": 0.005039,
     "end_time": "2022-08-18T13:07:30.712510",
     "exception": false,
     "start_time": "2022-08-18T13:07:30.707471",
     "status": "completed"
    },
    "tags": []
   },
   "source": [
    "## Taking Care of Missing Data"
   ]
  },
  {
   "cell_type": "code",
   "execution_count": 8,
   "id": "43fad73b",
   "metadata": {
    "execution": {
     "iopub.execute_input": "2022-08-18T13:07:30.724937Z",
     "iopub.status.busy": "2022-08-18T13:07:30.724261Z",
     "iopub.status.idle": "2022-08-18T13:07:30.863269Z",
     "shell.execute_reply": "2022-08-18T13:07:30.862420Z"
    },
    "papermill": {
     "duration": 0.147973,
     "end_time": "2022-08-18T13:07:30.865665",
     "exception": false,
     "start_time": "2022-08-18T13:07:30.717692",
     "status": "completed"
    },
    "tags": []
   },
   "outputs": [],
   "source": [
    "from sklearn.impute import SimpleImputer\n",
    "imputer1 = SimpleImputer(missing_values=np.nan,strategy = 'median')\n",
    "imputer1.fit(X_train)\n",
    "imputer2 = SimpleImputer(missing_values=np.nan,strategy = 'median')\n",
    "imputer2.fit(X_test)\n",
    "X_train = imputer1.transform(X_train)\n",
    "X_dev = imputer1.transform(X_dev) \n",
    "X_test = imputer2.transform(X_test)"
   ]
  },
  {
   "cell_type": "code",
   "execution_count": 9,
   "id": "83398108",
   "metadata": {
    "execution": {
     "iopub.execute_input": "2022-08-18T13:07:30.878079Z",
     "iopub.status.busy": "2022-08-18T13:07:30.877328Z",
     "iopub.status.idle": "2022-08-18T13:07:30.882636Z",
     "shell.execute_reply": "2022-08-18T13:07:30.881886Z"
    },
    "papermill": {
     "duration": 0.014189,
     "end_time": "2022-08-18T13:07:30.885228",
     "exception": false,
     "start_time": "2022-08-18T13:07:30.871039",
     "status": "completed"
    },
    "tags": []
   },
   "outputs": [
    {
     "name": "stdout",
     "output_type": "stream",
     "text": [
      "[[ 2.      0.     54.      1.      0.     26.    ]\n",
      " [ 3.      0.     19.      0.      0.      7.65  ]\n",
      " [ 3.      0.     18.      1.      1.      7.8542]\n",
      " ...\n",
      " [ 3.      0.     29.      0.      0.      7.7333]\n",
      " [ 3.      1.     36.      1.      0.     17.4   ]\n",
      " [ 2.      0.     60.      1.      1.     39.    ]]\n"
     ]
    }
   ],
   "source": [
    "print(X_train)"
   ]
  },
  {
   "cell_type": "code",
   "execution_count": 10,
   "id": "e37e4544",
   "metadata": {
    "execution": {
     "iopub.execute_input": "2022-08-18T13:07:30.898167Z",
     "iopub.status.busy": "2022-08-18T13:07:30.897510Z",
     "iopub.status.idle": "2022-08-18T13:07:30.907395Z",
     "shell.execute_reply": "2022-08-18T13:07:30.906630Z"
    },
    "papermill": {
     "duration": 0.018932,
     "end_time": "2022-08-18T13:07:30.909961",
     "exception": false,
     "start_time": "2022-08-18T13:07:30.891029",
     "status": "completed"
    },
    "tags": []
   },
   "outputs": [
    {
     "name": "stdout",
     "output_type": "stream",
     "text": [
      "[[  3.       0.      29.       0.       0.      14.4583]\n",
      " [  3.       0.      29.       0.       0.       7.55  ]\n",
      " [  3.       0.       7.       4.       1.      29.125 ]\n",
      " [  1.       1.      29.       1.       0.     146.5208]\n",
      " [  3.       1.      29.       0.       2.      15.2458]\n",
      " [  1.       0.      29.       0.       0.      30.5   ]\n",
      " [  1.       1.      40.       0.       0.     153.4625]\n",
      " [  1.       1.      31.       0.       2.     164.8667]\n",
      " [  1.       0.      25.       1.       0.      91.0792]\n",
      " [  3.       1.      29.       0.       0.       7.2292]\n",
      " [  3.       0.      26.       1.       0.       7.8542]\n",
      " [  2.       1.      40.       0.       0.      13.    ]\n",
      " [  3.       0.      29.       0.       0.       7.75  ]\n",
      " [  2.       1.       7.       0.       2.      26.25  ]\n",
      " [  1.       1.      24.       0.       0.      83.1583]\n",
      " [  3.       1.      14.       0.       0.       7.8542]\n",
      " [  3.       0.      23.       0.       0.       9.225 ]\n",
      " [  2.       0.      19.       1.       1.      36.75  ]\n",
      " [  3.       0.      35.       0.       0.       8.05  ]\n",
      " [  3.       0.       0.42     0.       1.       8.5167]\n",
      " [  2.       0.      18.       0.       0.      11.5   ]\n",
      " [  1.       1.      22.       0.       0.     151.55  ]\n",
      " [  3.       0.      29.       0.       0.       7.7375]\n",
      " [  1.       0.      29.       0.       0.      31.    ]\n",
      " [  3.       1.      22.       0.       0.       9.8375]\n",
      " [  1.       1.      40.       1.       1.     134.5   ]\n",
      " [  3.       0.      32.       0.       0.       7.8958]\n",
      " [  3.       1.      22.       0.       0.       7.75  ]\n",
      " [  2.       1.      25.       0.       1.      26.    ]\n",
      " [  3.       1.       2.       3.       2.      27.9   ]\n",
      " [  3.       0.      33.       0.       0.       8.6625]\n",
      " [  2.       1.      50.       0.       0.      10.5   ]\n",
      " [  3.       0.      28.       0.       0.       9.5   ]\n",
      " [  1.       0.      29.       0.       0.      35.5   ]\n",
      " [  3.       0.      29.       1.       0.       7.0458]\n",
      " [  1.       0.      32.       0.       0.      30.5   ]\n",
      " [  3.       0.      43.       0.       0.       6.45  ]\n",
      " [  2.       0.      28.       0.       0.      10.5   ]\n",
      " [  2.       0.      25.       0.       0.      13.    ]\n",
      " [  2.       0.      54.       0.       0.      14.    ]\n",
      " [  1.       0.      60.       1.       1.      79.2   ]\n",
      " [  3.       0.      25.       0.       0.       7.225 ]\n",
      " [  3.       0.      29.       0.       0.      14.5   ]\n",
      " [  3.       0.      14.       4.       1.      39.6875]\n",
      " [  1.       1.      35.       1.       0.      83.475 ]\n",
      " [  3.       0.      29.       0.       0.       7.8958]\n",
      " [  3.       0.      29.       0.       0.       7.8958]\n",
      " [  1.       1.      18.       2.       2.     262.375 ]\n",
      " [  2.       0.      39.       0.       0.      13.    ]\n",
      " [  1.       0.      52.       1.       1.      79.65  ]\n",
      " [  1.       0.      29.       0.       0.      30.    ]\n",
      " [  1.       0.      23.       0.       1.      63.3583]\n",
      " [  2.       1.       4.       1.       1.      23.    ]\n",
      " [  3.       0.      19.       0.       0.       7.8958]\n",
      " [  1.       0.      29.       0.       0.      29.7   ]\n",
      " [  2.       0.      24.       2.       0.      73.5   ]\n",
      " [  1.       0.      62.       0.       0.      26.55  ]\n",
      " [  3.       1.      11.       4.       2.      31.275 ]\n",
      " [  3.       0.      10.       3.       2.      27.9   ]\n",
      " [  3.       0.      29.       2.       0.      23.25  ]\n",
      " [  3.       0.      22.       0.       0.       7.2292]\n",
      " [  3.       1.      29.       0.       4.      21.075 ]\n",
      " [  1.       1.      54.       1.       0.      78.2667]\n",
      " [  1.       0.      29.       0.       0.      39.6   ]\n",
      " [  3.       1.      27.       0.       2.      11.1333]\n",
      " [  3.       0.      32.       0.       0.       7.75  ]\n",
      " [  1.       1.      49.       0.       0.      25.9292]\n",
      " [  2.       0.      28.       0.       1.      33.    ]\n",
      " [  2.       1.       2.       1.       1.      26.    ]\n",
      " [  1.       1.      19.       0.       0.      30.    ]\n",
      " [  2.       1.      24.       1.       0.      26.    ]\n",
      " [  1.       0.      48.       1.       0.      52.    ]\n",
      " [  1.       0.      28.       1.       0.      82.1708]\n",
      " [  3.       0.      29.       0.       0.       8.05  ]\n",
      " [  3.       0.      24.5      0.       0.       8.05  ]\n",
      " [  2.       1.      30.       3.       0.      21.    ]\n",
      " [  1.       0.      19.       3.       2.     263.    ]\n",
      " [  1.       0.      40.       0.       0.      27.7208]\n",
      " [  3.       0.      34.       0.       0.       6.4958]\n",
      " [  2.       0.      29.       0.       0.      15.05  ]\n",
      " [  3.       0.      29.       1.       0.      24.15  ]\n",
      " [  3.       0.       9.       1.       1.      15.9   ]\n",
      " [  2.       1.      26.       1.       1.      26.    ]\n",
      " [  3.       0.      16.       0.       0.       7.775 ]\n",
      " [  2.       0.      46.       0.       0.      26.    ]\n",
      " [  1.       1.      21.       0.       0.      77.9583]\n",
      " [  1.       1.      42.       0.       0.     227.525 ]\n",
      " [  3.       1.      63.       0.       0.       9.5875]\n",
      " [  2.       1.      34.       0.       0.      10.5   ]\n",
      " [  1.       0.      18.       1.       0.     108.9   ]\n",
      " [  1.       0.      29.       0.       0.       0.    ]\n",
      " [  3.       0.      19.       0.       0.       7.8958]\n",
      " [  2.       0.       3.       1.       1.      26.    ]\n",
      " [  1.       1.      44.       0.       1.      57.9792]\n",
      " [  3.       1.       9.       3.       2.      27.9   ]\n",
      " [  3.       0.      29.       0.       0.       7.2292]\n",
      " [  2.       1.      24.       0.       2.      14.5   ]\n",
      " [  3.       0.      16.       4.       1.      39.6875]\n",
      " [  1.       0.      60.       0.       0.      26.55  ]\n",
      " [  1.       0.      27.       0.       0.      76.7292]\n",
      " [  3.       0.      14.       5.       2.      46.9   ]]\n"
     ]
    }
   ],
   "source": [
    "print(X_dev)"
   ]
  },
  {
   "cell_type": "code",
   "execution_count": 11,
   "id": "ff1c2f35",
   "metadata": {
    "execution": {
     "iopub.execute_input": "2022-08-18T13:07:30.922749Z",
     "iopub.status.busy": "2022-08-18T13:07:30.921852Z",
     "iopub.status.idle": "2022-08-18T13:07:30.927755Z",
     "shell.execute_reply": "2022-08-18T13:07:30.926638Z"
    },
    "papermill": {
     "duration": 0.015012,
     "end_time": "2022-08-18T13:07:30.930361",
     "exception": false,
     "start_time": "2022-08-18T13:07:30.915349",
     "status": "completed"
    },
    "tags": []
   },
   "outputs": [
    {
     "name": "stdout",
     "output_type": "stream",
     "text": [
      "[[ 3.      0.     34.5     0.      0.      7.8292]\n",
      " [ 3.      1.     47.      1.      0.      7.    ]\n",
      " [ 2.      0.     62.      0.      0.      9.6875]\n",
      " ...\n",
      " [ 3.      0.     38.5     0.      0.      7.25  ]\n",
      " [ 3.      0.     27.      0.      0.      8.05  ]\n",
      " [ 3.      0.     27.      1.      1.     22.3583]]\n"
     ]
    }
   ],
   "source": [
    "print(X_test)"
   ]
  },
  {
   "cell_type": "markdown",
   "id": "39e6efd9",
   "metadata": {
    "papermill": {
     "duration": 0.00504,
     "end_time": "2022-08-18T13:07:30.940741",
     "exception": false,
     "start_time": "2022-08-18T13:07:30.935701",
     "status": "completed"
    },
    "tags": []
   },
   "source": [
    "## Training Model"
   ]
  },
  {
   "cell_type": "code",
   "execution_count": 12,
   "id": "44b11725",
   "metadata": {
    "execution": {
     "iopub.execute_input": "2022-08-18T13:07:30.953541Z",
     "iopub.status.busy": "2022-08-18T13:07:30.952443Z",
     "iopub.status.idle": "2022-08-18T13:07:31.246848Z",
     "shell.execute_reply": "2022-08-18T13:07:31.245690Z"
    },
    "papermill": {
     "duration": 0.303269,
     "end_time": "2022-08-18T13:07:31.249234",
     "exception": false,
     "start_time": "2022-08-18T13:07:30.945965",
     "status": "completed"
    },
    "tags": []
   },
   "outputs": [
    {
     "data": {
      "text/plain": [
       "RandomForestClassifier(criterion='entropy', random_state=0)"
      ]
     },
     "execution_count": 12,
     "metadata": {},
     "output_type": "execute_result"
    }
   ],
   "source": [
    "from sklearn.ensemble import RandomForestClassifier\n",
    "classifier = RandomForestClassifier(n_estimators = 100, criterion = 'entropy', random_state = 0)\n",
    "classifier.fit(X_train, Y_train)"
   ]
  },
  {
   "cell_type": "markdown",
   "id": "fbf03602",
   "metadata": {
    "papermill": {
     "duration": 0.005222,
     "end_time": "2022-08-18T13:07:31.260827",
     "exception": false,
     "start_time": "2022-08-18T13:07:31.255605",
     "status": "completed"
    },
    "tags": []
   },
   "source": [
    "## Making the Confusion Matrix"
   ]
  },
  {
   "cell_type": "code",
   "execution_count": 13,
   "id": "4e0b2bf0",
   "metadata": {
    "execution": {
     "iopub.execute_input": "2022-08-18T13:07:31.273608Z",
     "iopub.status.busy": "2022-08-18T13:07:31.272896Z",
     "iopub.status.idle": "2022-08-18T13:07:31.299992Z",
     "shell.execute_reply": "2022-08-18T13:07:31.298303Z"
    },
    "papermill": {
     "duration": 0.038668,
     "end_time": "2022-08-18T13:07:31.304735",
     "exception": false,
     "start_time": "2022-08-18T13:07:31.266067",
     "status": "completed"
    },
    "tags": []
   },
   "outputs": [
    {
     "name": "stdout",
     "output_type": "stream",
     "text": [
      "[[53  5]\n",
      " [14 29]]\n"
     ]
    },
    {
     "data": {
      "text/plain": [
       "0.8118811881188119"
      ]
     },
     "execution_count": 13,
     "metadata": {},
     "output_type": "execute_result"
    }
   ],
   "source": [
    "from sklearn.metrics import confusion_matrix, accuracy_score\n",
    "Y_dev_pred = classifier.predict(X_dev)\n",
    "cm = confusion_matrix(Y_dev,Y_dev_pred)\n",
    "print(cm)\n",
    "accuracy_score(Y_dev,Y_dev_pred)"
   ]
  },
  {
   "cell_type": "markdown",
   "id": "256ab6dc",
   "metadata": {
    "papermill": {
     "duration": 0.005507,
     "end_time": "2022-08-18T13:07:31.317018",
     "exception": false,
     "start_time": "2022-08-18T13:07:31.311511",
     "status": "completed"
    },
    "tags": []
   },
   "source": [
    "## Predicting Test Set Results"
   ]
  },
  {
   "cell_type": "code",
   "execution_count": 14,
   "id": "71bd60ec",
   "metadata": {
    "execution": {
     "iopub.execute_input": "2022-08-18T13:07:31.331087Z",
     "iopub.status.busy": "2022-08-18T13:07:31.330311Z",
     "iopub.status.idle": "2022-08-18T13:07:31.365713Z",
     "shell.execute_reply": "2022-08-18T13:07:31.364428Z"
    },
    "papermill": {
     "duration": 0.046378,
     "end_time": "2022-08-18T13:07:31.369172",
     "exception": false,
     "start_time": "2022-08-18T13:07:31.322794",
     "status": "completed"
    },
    "tags": []
   },
   "outputs": [
    {
     "name": "stdout",
     "output_type": "stream",
     "text": [
      "     PassengerId  Survived\n",
      "0            892         0\n",
      "1            893         0\n",
      "2            894         1\n",
      "3            895         1\n",
      "4            896         0\n",
      "..           ...       ...\n",
      "413         1305         0\n",
      "414         1306         1\n",
      "415         1307         0\n",
      "416         1308         0\n",
      "417         1309         0\n",
      "\n",
      "[418 rows x 2 columns]\n"
     ]
    }
   ],
   "source": [
    "output[:,1] = classifier.predict(X_test)\n",
    "output_DF = pd.DataFrame(output.astype(int),columns=['PassengerId','Survived'])\n",
    "output_DF.to_csv(\"./ud1.csv\",index=False)\n",
    "check_df = pd.read_csv('./ud1.csv')\n",
    "print(check_df)"
   ]
  }
 ],
 "metadata": {
  "kernelspec": {
   "display_name": "Python 3",
   "language": "python",
   "name": "python3"
  },
  "language_info": {
   "codemirror_mode": {
    "name": "ipython",
    "version": 3
   },
   "file_extension": ".py",
   "mimetype": "text/x-python",
   "name": "python",
   "nbconvert_exporter": "python",
   "pygments_lexer": "ipython3",
   "version": "3.7.12"
  },
  "papermill": {
   "default_parameters": {},
   "duration": 12.642688,
   "end_time": "2022-08-18T13:07:32.096277",
   "environment_variables": {},
   "exception": null,
   "input_path": "__notebook__.ipynb",
   "output_path": "__notebook__.ipynb",
   "parameters": {},
   "start_time": "2022-08-18T13:07:19.453589",
   "version": "2.3.4"
  }
 },
 "nbformat": 4,
 "nbformat_minor": 5
}
